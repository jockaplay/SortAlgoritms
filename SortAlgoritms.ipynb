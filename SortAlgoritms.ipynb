{
 "cells": [
  {
   "cell_type": "code",
   "execution_count": 1,
   "metadata": {
    "tags": []
   },
   "outputs": [],
   "source": [
    "def shellSort(arr):\n",
    "    n = len(arr)\n",
    "    dist = n//2\n",
    "      \n",
    "    while dist > 0:\n",
    "        j = dist\n",
    "        while j < n:\n",
    "            i = j - dist\n",
    "            while i >= 0:\n",
    "                if arr[i+dist] > arr[i]:\n",
    "                    break\n",
    "                else:\n",
    "                    arr[i+dist],arr[i]=arr[i],arr[i+dist]\n",
    "                i=i-dist\n",
    "            j+=1\n",
    "        dist=dist//2"
   ]
  },
  {
   "cell_type": "code",
   "execution_count": null,
   "metadata": {},
   "outputs": [],
   "source": [
    "arr2 = [12, 34, 54, 2, 3, 65, 45 ,87 ,98, 7, 8, 46, 0]\n",
    "print(\"input array:\",arr2)\n",
    "  \n",
    "shellSort(arr2)\n",
    "print(\"sorted array\",arr2)\n",
    "\n",
    "%timeit -t shellSort(arr2)"
   ]
  },
  {
   "cell_type": "code",
   "execution_count": 4,
   "metadata": {},
   "outputs": [],
   "source": [
    "def mergeSort(arr):\n",
    "    if len(arr) == 1:\n",
    "        return arr\n",
    "    mid = len(arr) // 2\n",
    "    left = arr[:mid]\n",
    "    right = arr[mid:]\n",
    "    left_sorted = mergeSort(left)\n",
    "    right_sorted = mergeSort(right)\n",
    "    return merge(left_sorted, right_sorted)\n",
    "\n",
    "def merge(left, right):\n",
    "    result = []\n",
    "    i = 0\n",
    "    j = 0\n",
    "    while len(left) > i and len(right) > j:\n",
    "        if left[i] <= right[j]:\n",
    "            result.append(left[i])\n",
    "            i += 1\n",
    "        else:\n",
    "            result.append(right[j])\n",
    "            j += 1\n",
    "    result += left[i:]\n",
    "    result += right[j:]\n",
    "    return result"
   ]
  },
  {
   "cell_type": "code",
   "execution_count": null,
   "metadata": {},
   "outputs": [],
   "source": [
    "arr3 = [12, 34, 54, 2, 3, 65, 45 ,87 ,98, 7, 8, 46, 0]\n",
    "print(\"input array:\",arr3)\n",
    "  \n",
    "arr3 = mergeSort(arr3)\n",
    "print(\"sorted array\",arr3)\n",
    "\n",
    "%timeit -t mergeSort(arr3)"
   ]
  }
 ],
 "metadata": {
  "kernelspec": {
   "display_name": "Python 3",
   "language": "python",
   "name": "python3"
  },
  "language_info": {
   "codemirror_mode": {
    "name": "ipython",
    "version": 3
   },
   "file_extension": ".py",
   "mimetype": "text/x-python",
   "name": "python",
   "nbconvert_exporter": "python",
   "pygments_lexer": "ipython3",
   "version": "3.10.9"
  },
  "orig_nbformat": 4,
  "vscode": {
   "interpreter": {
    "hash": "e188bdfc8ac52c71d356327b371f44971644d0038673d2d39f7110e977ed2f21"
   }
  }
 },
 "nbformat": 4,
 "nbformat_minor": 2
}
